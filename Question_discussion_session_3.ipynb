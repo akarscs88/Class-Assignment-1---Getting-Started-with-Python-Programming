{
  "nbformat": 4,
  "nbformat_minor": 0,
  "metadata": {
    "colab": {
      "name": "Question discussion session 3.ipynb",
      "provenance": [],
      "authorship_tag": "ABX9TyMi/54AJQQhnpXHWwfscrpT",
      "include_colab_link": true
    },
    "kernelspec": {
      "name": "python3",
      "display_name": "Python 3"
    }
  },
  "cells": [
    {
      "cell_type": "markdown",
      "metadata": {
        "id": "view-in-github",
        "colab_type": "text"
      },
      "source": [
        "<a href=\"https://colab.research.google.com/github/akarscs88/Class-Assignment-1---Getting-Started-with-Python-Programming/blob/master/Question_discussion_session_3.ipynb\" target=\"_parent\"><img src=\"https://colab.research.google.com/assets/colab-badge.svg\" alt=\"Open In Colab\"/></a>"
      ]
    },
    {
      "cell_type": "code",
      "metadata": {
        "id": "wyJ7p1XBxaoq"
      },
      "source": [
        "#1\r\n",
        "n=int(input(\"Enter the number of elements: \"))\r\n",
        "a=[]\r\n",
        "for i in range(0,n):\r\n",
        "    element=int(input(\"Enter element: \"))\r\n",
        "    a.append(element)\r\n",
        "avg=sum(a)/n\r\n",
        "print(\"Average of elements in the list\",round(avg,2))"
      ],
      "execution_count": null,
      "outputs": []
    },
    {
      "cell_type": "code",
      "metadata": {
        "id": "KltymFSjy8bf"
      },
      "source": [
        "#2\r\n",
        "lst=[1,2,3,4]\r\n",
        "mylist=[5,6,7,8,9]\r\n",
        "n=int(input(\"enter upto which range to be concatenated\"))\r\n",
        "new_list=lst+mylist[:n]\r\n",
        "print(new_list)"
      ],
      "execution_count": null,
      "outputs": []
    },
    {
      "cell_type": "code",
      "metadata": {
        "id": "84otq8kN1oKX"
      },
      "source": [
        "#3\r\n",
        "def is_Sublist(l, s):\r\n",
        "\tsub_set = False\r\n",
        "\tif s == []:\r\n",
        "\t\tsub_set = True\r\n",
        "\telif s == l:\r\n",
        "\t\tsub_set = True\r\n",
        "\telif len(s) > len(l):\r\n",
        "\t\tsub_set = False\r\n",
        "\r\n",
        "\telse:\r\n",
        "\t\tfor i in range(len(l)):\r\n",
        "\t\t\tif l[i] == s[0]:\r\n",
        "\t\t\t\tn = 1\r\n",
        "\t\t\t\twhile (n < len(s)) and (l[i+n] == s[n]):\r\n",
        "\t\t\t\t\tn += 1\r\n",
        "\t\t\t\t\r\n",
        "\t\t\t\tif n == len(s):\r\n",
        "\t\t\t\t\tsub_set = True\r\n",
        "\r\n",
        "\treturn sub_set\r\n",
        "\r\n",
        "a = [2,4,3,5,7]\r\n",
        "b = [4,3]\r\n",
        "c = [3,7]\r\n",
        "print(is_Sublist(a, b))\r\n",
        "print(is_Sublist(a, c))"
      ],
      "execution_count": null,
      "outputs": []
    },
    {
      "cell_type": "code",
      "metadata": {
        "id": "l4xfW3DP3lq7"
      },
      "source": [
        "#4\r\n",
        "def Frequency(my_list):\r\n",
        "  freq = {}\r\n",
        "  for items in my_list: \r\n",
        "    freq[items] = my_list.count(items)\r\n",
        "  for key, value in freq.items():\r\n",
        "    print (\"% d : % d\"%(key, value))\r\n",
        "  if _name_ == \"_main_\":\r\n",
        "    my_list =[1, 1,3 , 3,4,6,5, 5, 3, 1, 4, 7, 4, 2, 2, 9,9,9 ,2]\r\n",
        "    Frequency(my_list)"
      ],
      "execution_count": 3,
      "outputs": []
    },
    {
      "cell_type": "code",
      "metadata": {
        "id": "OFuBWx8N4YSf"
      },
      "source": [
        "#5\r\n",
        "list1=[50,25,40]\r\n",
        "list1.sort()\r\n",
        "print(\"Second largest element is:\", list1[-2])"
      ],
      "execution_count": null,
      "outputs": []
    },
    {
      "cell_type": "code",
      "metadata": {
        "id": "sr0jEC-u6xFu"
      },
      "source": [
        "#7\r\n",
        "def maxmin(A):\r\n",
        "      maxi = A[0]\r\n",
        "      secondsmax = A[0]\r\n",
        "      mini = A[0]\r\n",
        "      secondmini = A[0]\r\n",
        "      for item in A:\r\n",
        "        if item > maxi:\r\n",
        "          maxi = item\r\n",
        "        elif secondsmax!=maxi and secondsmax < item:\r\n",
        "          secondsmax = item\r\n",
        "        elif item < mini:\r\n",
        "          mini = item\r\n",
        "        elif secondmini != mini and secondmini > item:\r\n",
        "          secondmini = item\r\n",
        "      print(\"Largest element is ::>\", maxi)\r\n",
        "      print(\"Second Largest element is ::>\", secondsmax)\r\n",
        "      print(\"Smallest element is ::>\", mini)\r\n",
        "      print(\"Second Smallest element is ::>\", secondmini)"
      ],
      "execution_count": 18,
      "outputs": []
    }
  ]
}