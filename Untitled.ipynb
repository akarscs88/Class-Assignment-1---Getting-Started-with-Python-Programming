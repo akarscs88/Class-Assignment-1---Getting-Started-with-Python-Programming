{
  "nbformat": 4,
  "nbformat_minor": 0,
  "metadata": {
    "colab": {
      "name": "Untitled",
      "provenance": [],
      "collapsed_sections": [],
      "authorship_tag": "ABX9TyMfwvI/eyl4ZJixQcYiqt7p",
      "include_colab_link": true
    },
    "kernelspec": {
      "name": "python3",
      "display_name": "Python 3"
    }
  },
  "cells": [
    {
      "cell_type": "markdown",
      "metadata": {
        "id": "view-in-github",
        "colab_type": "text"
      },
      "source": [
        "<a href=\"https://colab.research.google.com/github/akarscs88/Class-Assignment-1---Getting-Started-with-Python-Programming/blob/master/Untitled.ipynb\" target=\"_parent\"><img src=\"https://colab.research.google.com/assets/colab-badge.svg\" alt=\"Open In Colab\"/></a>"
      ]
    },
    {
      "cell_type": "code",
      "metadata": {
        "id": "tuV8URXl5JgR",
        "colab_type": "code",
        "colab": {
          "base_uri": "https://localhost:8080/",
          "height": 68
        },
        "outputId": "72a8fa44-f6a5-4002-d19c-e736126420c6"
      },
      "source": [
        "#2\n",
        "print(\"Akarsh C S\")\n",
        "print(\"Navarathna,Thalassery\")\n",
        "print(\"Ph:8137968888\")"
      ],
      "execution_count": null,
      "outputs": [
        {
          "output_type": "stream",
          "text": [
            "Akarsh C S\n",
            "Navarathna,Thalassery\n",
            "Ph:8137968888\n"
          ],
          "name": "stdout"
        }
      ]
    },
    {
      "cell_type": "code",
      "metadata": {
        "id": "41PvrEOx6QWm",
        "colab_type": "code",
        "colab": {
          "base_uri": "https://localhost:8080/",
          "height": 51
        },
        "outputId": "d4828b8e-a5ea-4a06-ebf5-ddcf5e7d981a"
      },
      "source": [
        "#3\n",
        "name=input(\"Enter the name:\")\n",
        "print(\"Your name is:\",name)"
      ],
      "execution_count": null,
      "outputs": [
        {
          "output_type": "stream",
          "text": [
            "Enter the name:Akarsh C S\n",
            "Your name is: Akarsh C S\n"
          ],
          "name": "stdout"
        }
      ]
    },
    {
      "cell_type": "code",
      "metadata": {
        "id": "qRZ1QArE6_JB",
        "colab_type": "code",
        "colab": {
          "base_uri": "https://localhost:8080/",
          "height": 68
        },
        "outputId": "c3b3382e-e151-49ea-fd27-e5c067dc92fb"
      },
      "source": [
        "#4\n",
        "length=int(input('Enter the length of Rectangle:'))\n",
        "breadth=int(input('Enter the breadth of the Rectangle:'))\n",
        "area=length*breadth\n",
        "print('Area of Rectangle=',area)"
      ],
      "execution_count": null,
      "outputs": [
        {
          "output_type": "stream",
          "text": [
            "Enter the length of Rectangle:2\n",
            "Enter the breadth of the Rectangle:2\n",
            "Area of Rectangle= 4\n"
          ],
          "name": "stdout"
        }
      ]
    },
    {
      "cell_type": "code",
      "metadata": {
        "id": "crESCE9uGzlt",
        "colab_type": "code",
        "colab": {
          "base_uri": "https://localhost:8080/",
          "height": 68
        },
        "outputId": "13799f0f-a0de-430f-beaf-cf2c194807e1"
      },
      "source": [
        "#5\n",
        "base=int(input('Enter the base:'))\n",
        "height=int(input('Enter the height:'))\n",
        "area=.5*base*height\n",
        "print('Area of the Triangle=',area)"
      ],
      "execution_count": null,
      "outputs": [
        {
          "output_type": "stream",
          "text": [
            "Enter the base:2\n",
            "Enter the height:2\n",
            "Area of the Triangle= 2.0\n"
          ],
          "name": "stdout"
        }
      ]
    },
    {
      "cell_type": "code",
      "metadata": {
        "id": "PO0Jm566IfRS",
        "colab_type": "code",
        "colab": {
          "base_uri": "https://localhost:8080/",
          "height": 51
        },
        "outputId": "6b61266f-f546-4994-b8fc-a9c562ab52b1"
      },
      "source": [
        "#6\n",
        "radius=float(input('Enter the radius of Circle:'))\n",
        "area=3.14*radius**2\n",
        "print('Area of the Circle=',area)"
      ],
      "execution_count": null,
      "outputs": [
        {
          "output_type": "stream",
          "text": [
            "Enter the radius of Circle:1\n",
            "Area of the Circle= 3.14\n"
          ],
          "name": "stdout"
        }
      ]
    },
    {
      "cell_type": "code",
      "metadata": {
        "id": "fXqKwyRjJZcS",
        "colab_type": "code",
        "colab": {
          "base_uri": "https://localhost:8080/",
          "height": 68
        },
        "outputId": "3428bf53-429e-49b5-9c54-4fb265b63bf7"
      },
      "source": [
        "#7\n",
        "name=input('Enter your name:')\n",
        "age=int(input('Enter your age:'))\n",
        "print('Name:',name, '  Age:',age)"
      ],
      "execution_count": null,
      "outputs": [
        {
          "output_type": "stream",
          "text": [
            "Enter your name:Akarsh C S\n",
            "Enter your age:20\n",
            "Name: Akarsh C S   Age: 20\n"
          ],
          "name": "stdout"
        }
      ]
    },
    {
      "cell_type": "code",
      "metadata": {
        "id": "27yvkBcAKrA9",
        "colab_type": "code",
        "colab": {
          "base_uri": "https://localhost:8080/",
          "height": 51
        },
        "outputId": "bfe4aea8-a2da-4bc6-c995-3c76f382fcaa"
      },
      "source": [
        "#8\n",
        "number=int(input('Enter a Number:'))\n",
        "print('The number plus one=',number+1)"
      ],
      "execution_count": null,
      "outputs": [
        {
          "output_type": "stream",
          "text": [
            "Enter a Number:6\n",
            "The number plus one= 7\n"
          ],
          "name": "stdout"
        }
      ]
    }
  ]
}