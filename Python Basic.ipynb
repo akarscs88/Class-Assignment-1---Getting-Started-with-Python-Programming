{
  "nbformat": 4,
  "nbformat_minor": 0,
  "metadata": {
    "colab": {
      "name": "Untitled3.ipynb",
      "provenance": [],
      "authorship_tag": "ABX9TyMt+49+G8wH4BIeh8oy9O5y",
      "include_colab_link": true
    },
    "kernelspec": {
      "name": "python3",
      "display_name": "Python 3"
    }
  },
  "cells": [
    {
      "cell_type": "markdown",
      "metadata": {
        "id": "view-in-github",
        "colab_type": "text"
      },
      "source": [
        "<a href=\"https://colab.research.google.com/github/akarscs88/Class-Assignment-1---Getting-Started-with-Python-Programming/blob/master/Untitled3.ipynb\" target=\"_parent\"><img src=\"https://colab.research.google.com/assets/colab-badge.svg\" alt=\"Open In Colab\"/></a>"
      ]
    },
    {
      "cell_type": "code",
      "metadata": {
        "id": "unqKRMEb2GM2",
        "outputId": "399de6be-eba0-4122-af4b-1cf80d6f98b6",
        "colab": {
          "base_uri": "https://localhost:8080/",
          "height": 85
        }
      },
      "source": [
        "a=int(input(\"Enter the first number:\"))\n",
        "b=int(input(\"Enter the second number:\"))\n",
        "c=int(input(\"Enter the third number:\"))\n",
        "if a>=b and a>=c:\n",
        "  largest_num=a\n",
        "elif b>=a and b>=c:\n",
        "  largest_num=b\n",
        "else:\n",
        "  largest_num=c\n",
        "print(\"The largest number is \",largest_num)"
      ],
      "execution_count": 1,
      "outputs": [
        {
          "output_type": "stream",
          "text": [
            "Enter the first number:1\n",
            "Enter the second number:3\n",
            "Enter the third number:5\n",
            "The largest number is  5\n"
          ],
          "name": "stdout"
        }
      ]
    }
  ]
}
