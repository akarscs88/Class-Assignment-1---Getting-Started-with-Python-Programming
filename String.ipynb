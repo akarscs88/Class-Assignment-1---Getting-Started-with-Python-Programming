{
  "nbformat": 4,
  "nbformat_minor": 0,
  "metadata": {
    "colab": {
      "name": "Untitled4.ipynb",
      "provenance": [],
      "authorship_tag": "ABX9TyM7IuSqhzSSu1qI5QtkUrk4",
      "include_colab_link": true
    },
    "kernelspec": {
      "name": "python3",
      "display_name": "Python 3"
    }
  },
  "cells": [
    {
      "cell_type": "markdown",
      "metadata": {
        "id": "view-in-github",
        "colab_type": "text"
      },
      "source": [
        "<a href=\"https://colab.research.google.com/github/akarscs88/Class-Assignment-1---Getting-Started-with-Python-Programming/blob/master/Untitled4.ipynb\" target=\"_parent\"><img src=\"https://colab.research.google.com/assets/colab-badge.svg\" alt=\"Open In Colab\"/></a>"
      ]
    },
    {
      "cell_type": "code",
      "metadata": {
        "id": "OepCi9lCFyc1"
      },
      "source": [
        "#1\n",
        "def CountLetters (str,letter):\n",
        "  count=0\n",
        "  index=0\n",
        "  while index<len(str):\n",
        "    if letter==str[index]:\n",
        "       count=count+1\n",
        "    index=index+1\n",
        "  return count  "
      ],
      "execution_count": 7,
      "outputs": []
    },
    {
      "cell_type": "code",
      "metadata": {
        "id": "B_7V2KIKGrn2",
        "outputId": "dfde2e55-5b88-4f5c-f6c8-c70d5fe0374e",
        "colab": {
          "base_uri": "https://localhost:8080/",
          "height": 34
        }
      },
      "source": [
        "CountLetters (\"banana\",\"a\") "
      ],
      "execution_count": 9,
      "outputs": [
        {
          "output_type": "execute_result",
          "data": {
            "text/plain": [
              "3"
            ]
          },
          "metadata": {
            "tags": []
          },
          "execution_count": 9
        }
      ]
    },
    {
      "cell_type": "code",
      "metadata": {
        "id": "3hT6hp8kHJuB",
        "outputId": "d28e2647-6e5d-415a-e908-f5e9f2681634",
        "colab": {
          "base_uri": "https://localhost:8080/",
          "height": 34
        }
      },
      "source": [
        "CountLetters (\"apple\",\"p\")"
      ],
      "execution_count": 10,
      "outputs": [
        {
          "output_type": "execute_result",
          "data": {
            "text/plain": [
              "2"
            ]
          },
          "metadata": {
            "tags": []
          },
          "execution_count": 10
        }
      ]
    },
    {
      "cell_type": "code",
      "metadata": {
        "id": "F9i28znAHSCa"
      },
      "source": [
        "#2\n",
        "def find(str, ch, index):\n",
        "  while index<len(str):\n",
        "    if str[index]==ch:\n",
        "      return index\n",
        "    index=index+1\n",
        "  return -1"
      ],
      "execution_count": 11,
      "outputs": []
    },
    {
      "cell_type": "code",
      "metadata": {
        "id": "yILYAsrtHw1U",
        "outputId": "9438acc8-4a62-4fea-b789-84ce5699c635",
        "colab": {
          "base_uri": "https://localhost:8080/",
          "height": 34
        }
      },
      "source": [
        "find('mango','g',3)"
      ],
      "execution_count": 12,
      "outputs": [
        {
          "output_type": "execute_result",
          "data": {
            "text/plain": [
              "3"
            ]
          },
          "metadata": {
            "tags": []
          },
          "execution_count": 12
        }
      ]
    }
  ]
}
