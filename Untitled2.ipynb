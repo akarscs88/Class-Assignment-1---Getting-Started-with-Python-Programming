{
  "nbformat": 4,
  "nbformat_minor": 0,
  "metadata": {
    "colab": {
      "name": "Untitled2.ipynb",
      "provenance": [],
      "authorship_tag": "ABX9TyNcIDzRk5ideu5fumBnmNTN",
      "include_colab_link": true
    },
    "kernelspec": {
      "name": "python3",
      "display_name": "Python 3"
    }
  },
  "cells": [
    {
      "cell_type": "markdown",
      "metadata": {
        "id": "view-in-github",
        "colab_type": "text"
      },
      "source": [
        "<a href=\"https://colab.research.google.com/github/akarscs88/Class-Assignment-1---Getting-Started-with-Python-Programming/blob/master/Untitled2.ipynb\" target=\"_parent\"><img src=\"https://colab.research.google.com/assets/colab-badge.svg\" alt=\"Open In Colab\"/></a>"
      ]
    },
    {
      "cell_type": "code",
      "metadata": {
        "id": "Uy5xiR4iDoPR",
        "colab_type": "code",
        "colab": {
          "base_uri": "https://localhost:8080/",
          "height": 68
        },
        "outputId": "3b8bd4bf-0a32-4547-e570-2d3b9f04854e"
      },
      "source": [
        "#1\n",
        "a=input(\"Enter the value of string 1:\")\n",
        "b=input(\"Enter the value of string 2:\")\n",
        "if a==b :\n",
        "  print(\"Equal\")\n",
        "else:\n",
        "    print(\"Not Equal\")  "
      ],
      "execution_count": 68,
      "outputs": [
        {
          "output_type": "stream",
          "text": [
            "Enter the value of string 1:LK\n",
            "Enter the value of string 2:lk\n",
            "Not Equal\n"
          ],
          "name": "stdout"
        }
      ]
    },
    {
      "cell_type": "code",
      "metadata": {
        "id": "OBUL1W6fpE0v",
        "colab_type": "code",
        "colab": {
          "base_uri": "https://localhost:8080/",
          "height": 68
        },
        "outputId": "442ec0cb-7d53-41ea-a2d2-8d1eb3eed739"
      },
      "source": [
        "#2\n",
        "a=int(input(\"Enter the first number:\"))\n",
        "b=int(input(\"Enter the second number:\"))\n",
        "print(\"Sum of the two numbers=\",a+b)"
      ],
      "execution_count": 11,
      "outputs": [
        {
          "output_type": "stream",
          "text": [
            "Enter the first number:5\n",
            "Enter the second number:6\n",
            "Sum of the two numbers= 11\n"
          ],
          "name": "stdout"
        }
      ]
    },
    {
      "cell_type": "code",
      "metadata": {
        "id": "vGjVdMl1uZaL",
        "colab_type": "code",
        "colab": {
          "base_uri": "https://localhost:8080/",
          "height": 51
        },
        "outputId": "5956d9e8-0f12-4ac7-988a-0dce6807e3dc"
      },
      "source": [
        "#3\n",
        "from math import pow\n",
        "a=float(input(\"Enter the number:\"))\n",
        "square_root=pow(a,1/2)\n",
        "print(\"Square root=\",square_root)"
      ],
      "execution_count": 21,
      "outputs": [
        {
          "output_type": "stream",
          "text": [
            "Enter the number:9\n",
            "Square root= 3.0\n"
          ],
          "name": "stdout"
        }
      ]
    },
    {
      "cell_type": "code",
      "metadata": {
        "id": "d9gc2TUwtQTg",
        "colab_type": "code",
        "colab": {
          "base_uri": "https://localhost:8080/",
          "height": 68
        },
        "outputId": "2a7cdef0-10d8-4175-db6e-285dc574a6db"
      },
      "source": [
        "#4\n",
        "h=float(input(\"Enter the height:\"))\n",
        "b=float(input(\"Enter the base:\"))\n",
        "area=1/2*b*h\n",
        "print(\"Area of the triangle=\",area)\n"
      ],
      "execution_count": 12,
      "outputs": [
        {
          "output_type": "stream",
          "text": [
            "Enter the height:5\n",
            "Enter the base:2\n",
            "Area of the triangle= 5.0\n"
          ],
          "name": "stdout"
        }
      ]
    },
    {
      "cell_type": "code",
      "metadata": {
        "id": "eNk4WIS0zJd_",
        "colab_type": "code",
        "colab": {
          "base_uri": "https://localhost:8080/",
          "height": 51
        },
        "outputId": "10d05171-2b3c-4380-a11b-2dea2718c7ff"
      },
      "source": [
        "#5\n",
        "a=float(input(\"Temperature in Celsius=\"))\n",
        "b=(a*1.8)+32\n",
        "print(\"The given temperature in Fahrenheit is \",b)"
      ],
      "execution_count": 58,
      "outputs": [
        {
          "output_type": "stream",
          "text": [
            "Temperature in Celsius=273\n",
            "The given temperature in Fahrenheit is  523.4000000000001\n"
          ],
          "name": "stdout"
        }
      ]
    },
    {
      "cell_type": "code",
      "metadata": {
        "id": "qd9SZFXSuHvy",
        "colab_type": "code",
        "colab": {
          "base_uri": "https://localhost:8080/",
          "height": 51
        },
        "outputId": "45108a64-aad3-469e-85e0-0b773c42ef2d"
      },
      "source": [
        "#6\n",
        "n=int(input(\"enter the number:\"))\n",
        "if n>0 :\n",
        "  print(\"Positive\")\n",
        "elif n==0:\n",
        "    print(\"Zero\")\n",
        "else:\n",
        "    print(\"Negative\")\n",
        "  \n"
      ],
      "execution_count": 32,
      "outputs": [
        {
          "output_type": "stream",
          "text": [
            "enter the number:-5\n",
            "Negative\n"
          ],
          "name": "stdout"
        }
      ]
    },
    {
      "cell_type": "code",
      "metadata": {
        "id": "9h5tL1__zN-R",
        "colab_type": "code",
        "colab": {
          "base_uri": "https://localhost:8080/",
          "height": 85
        },
        "outputId": "1fccd516-61e4-4b44-aa55-a48de50a8160"
      },
      "source": [
        "#7\n",
        "a=int(input(\"Enter the first number:\"))\n",
        "b=int(input(\"Enter the second number:\"))\n",
        "c=int(input(\"Enter the third number:\"))\n",
        "if a>=b and a>=c :\n",
        "  print(\"Largest number is \",a)\n",
        "elif b>=a and b>=c :\n",
        "  print(\"Largest number is \",b)\n",
        "else:\n",
        "  print(\"Largest number is \",c)          "
      ],
      "execution_count": 57,
      "outputs": [
        {
          "output_type": "stream",
          "text": [
            "Enter the first number:5\n",
            "Enter the second number:8\n",
            "Enter the third number:2\n",
            "Largest number is  8\n"
          ],
          "name": "stdout"
        }
      ]
    },
    {
      "cell_type": "code",
      "metadata": {
        "id": "LBEDxino3L3X",
        "colab_type": "code",
        "colab": {
          "base_uri": "https://localhost:8080/",
          "height": 51
        },
        "outputId": "ba912dbf-4043-4502-d7b0-4e5cf60de9aa"
      },
      "source": [
        "#8\n",
        "n=int(input(\"Enter n value:\"))\n",
        "sum=0\n",
        "for i in range(1,n+1,2):\n",
        "    sum+=i\n",
        "print(sum)\n"
      ],
      "execution_count": 55,
      "outputs": [
        {
          "output_type": "stream",
          "text": [
            "Enter n value:3\n",
            "4\n"
          ],
          "name": "stdout"
        }
      ]
    }
  ]
}