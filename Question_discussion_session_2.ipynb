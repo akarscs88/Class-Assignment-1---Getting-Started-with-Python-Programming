{
  "nbformat": 4,
  "nbformat_minor": 0,
  "metadata": {
    "colab": {
      "name": "Question discussion session 2.ipynb",
      "provenance": [],
      "authorship_tag": "ABX9TyP7Ppdtk0wrRTeMvqDVtQsW",
      "include_colab_link": true
    },
    "kernelspec": {
      "name": "python3",
      "display_name": "Python 3"
    }
  },
  "cells": [
    {
      "cell_type": "markdown",
      "metadata": {
        "id": "view-in-github",
        "colab_type": "text"
      },
      "source": [
        "<a href=\"https://colab.research.google.com/github/akarscs88/Class-Assignment-1---Getting-Started-with-Python-Programming/blob/master/Question_discussion_session_2.ipynb\" target=\"_parent\"><img src=\"https://colab.research.google.com/assets/colab-badge.svg\" alt=\"Open In Colab\"/></a>"
      ]
    },
    {
      "cell_type": "code",
      "metadata": {
        "id": "YnInrbEbL1xy"
      },
      "source": [
        "#1\r\n",
        "b=[]\r\n",
        "for i in range(0,4):\r\n",
        "    a=int(input(\"Number: \"))\r\n",
        "    b.append(a)\r\n",
        "sum1=0\r\n",
        "sum2=0\r\n",
        "avg1=0\r\n",
        "avg2=0\r\n",
        "count1=0\r\n",
        "count2=0\r\n",
        "for j in b:\r\n",
        "    if(j>0):\r\n",
        "      \r\n",
        "      sum1=sum1+j\r\n",
        "      count1=count1+1\r\n",
        " \r\n",
        "    else:\r\n",
        "        sum2=sum2+j\r\n",
        "        count2=count2+1\r\n",
        " \r\n",
        "avg1=sum1/count1\r\n",
        "avg2=sum2/count2\r\n",
        "        \r\n",
        "print(\"Sum of  positive numbers:\",sum1,\",Average=\",avg1)\r\n",
        "print(\"Sum of  Negative numbers:\",sum2,\",Average=\",avg2)"
      ],
      "execution_count": null,
      "outputs": []
    },
    {
      "cell_type": "code",
      "metadata": {
        "id": "L5oE4F7UM89E"
      },
      "source": [
        "#2\r\n",
        "string = input(\"input string:\")\r\n",
        "frequencies = {} \r\n",
        "  \r\n",
        "for char in string: \r\n",
        "   if char in frequencies: \r\n",
        "      frequencies[char] += 1\r\n",
        "   else: \r\n",
        "      frequencies[char] = 1\r\n",
        " \r\n",
        "print (\"Per char frequency in '{}' is :\\n {}\".format(string, str(frequencies)))"
      ],
      "execution_count": null,
      "outputs": []
    },
    {
      "cell_type": "code",
      "metadata": {
        "id": "BGgpQzF5NAMP"
      },
      "source": [
        "#3\r\n",
        "unsorted_list =[3,1,5,2]\r\n",
        "sorted_list=[]\r\n",
        "while unsorted_list:\r\n",
        "     minimum = unsorted_list[0]\r\n",
        "     for item in unsorted_list:\r\n",
        "           if item < minimum:\r\n",
        "              minimum = item\r\n",
        "     sorted_list.append(minimum)\r\n",
        "     unsorted_list.remove(minimum)\r\n",
        " \r\n",
        "print(sorted_list)"
      ],
      "execution_count": null,
      "outputs": []
    },
    {
      "cell_type": "code",
      "metadata": {
        "id": "b8y2rourNNrh"
      },
      "source": [
        "#4\r\n",
        "def isPalindrome(a):\r\n",
        " \r\n",
        "    return a == a[::-1]\r\n",
        " \r\n",
        "a=input(\"enter the string :\")\r\n",
        " \r\n",
        "j =  isPalindrome(a)\r\n",
        " \r\n",
        " \r\n",
        "if j:\r\n",
        " \r\n",
        "    print(\"Yes, it is palindrome\")\r\n",
        " \r\n",
        "else:\r\n",
        "  print(\"No, it is not palindrome\")"
      ],
      "execution_count": null,
      "outputs": []
    },
    {
      "cell_type": "code",
      "metadata": {
        "id": "vuxTTjFyNinU"
      },
      "source": [
        "#5\r\n",
        "import math\r\n",
        "def fact(a):\r\n",
        "   if a<=1:\r\n",
        "     return 1\r\n",
        "   else:\r\n",
        "     return a* fact(a-1)\r\n",
        " \r\n",
        "step=int(input(\"no of terms :\"))\r\n",
        "x=int(input(\"enter the value :\"))\r\n",
        "sum=0\r\n",
        "for i in range(step+1):\r\n",
        "   sum+=(math.pow(-1,i)*math.pow(x,2*i+1))/fact(2*i+1)\r\n",
        "print(\"The result of sin(\",step,\")\",sum)"
      ],
      "execution_count": null,
      "outputs": []
    },
    {
      "cell_type": "code",
      "metadata": {
        "id": "k9Iubu7ANm_K"
      },
      "source": [
        "#6\r\n",
        "password=input(\"Enter the password :\")\r\n",
        "upper=False\r\n",
        "lower=False\r\n",
        "number=False\r\n",
        "special=False\r\n",
        "num=['0','1','2','3','4','5','6','7','8','9']\r\n",
        " \r\n",
        "if len(password)<6:\r\n",
        "   print(\"Password length is too short, minimum length should 6\")\r\n",
        "else:\r\n",
        "   for i in password:\r\n",
        "      if i.isupper()==True:\r\n",
        "         upper=True\r\n",
        "      elif i in num:\r\n",
        "         number=True\r\n",
        "      elif i.islower()==True:\r\n",
        "         lower=True\r\n",
        "      elif i==\"$\" or i==\"#\" or i==\"@\":\r\n",
        "         special=True\r\n",
        "if upper==True and lower==True and number==True and special==True:\r\n",
        "   print(\"Password accepted\")\r\n",
        "else:\r\n",
        "   print(\"Password not accepted\")"
      ],
      "execution_count": null,
      "outputs": []
    }
  ]
}