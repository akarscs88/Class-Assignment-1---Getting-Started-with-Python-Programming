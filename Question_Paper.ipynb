{
  "nbformat": 4,
  "nbformat_minor": 0,
  "metadata": {
    "colab": {
      "name": "Question Paper.ipynb",
      "provenance": [],
      "collapsed_sections": [],
      "authorship_tag": "ABX9TyOvOVp+Y28EtZpNjLfe6bWa",
      "include_colab_link": true
    },
    "kernelspec": {
      "name": "python3",
      "display_name": "Python 3"
    }
  },
  "cells": [
    {
      "cell_type": "markdown",
      "metadata": {
        "id": "view-in-github",
        "colab_type": "text"
      },
      "source": [
        "<a href=\"https://colab.research.google.com/github/akarscs88/Class-Assignment-1---Getting-Started-with-Python-Programming/blob/master/Question_Paper.ipynb\" target=\"_parent\"><img src=\"https://colab.research.google.com/assets/colab-badge.svg\" alt=\"Open In Colab\"/></a>"
      ]
    },
    {
      "cell_type": "markdown",
      "metadata": {
        "id": "HpZkgY-_2dXp"
      },
      "source": [
        "First Paper"
      ]
    },
    {
      "cell_type": "markdown",
      "metadata": {
        "id": "eroK6bvU1aWg"
      },
      "source": [
        "#1\n",
        " Python, we know that a function can call other functions. It is even possible for the function to call itself. These types of construct are termed as recursive functions.\n",
        " def factorial(x):\n",
        "    \"\"\"This is a recursive function\n",
        "    to find the factorial of an integer\"\"\"\n",
        " \n",
        "if x == 1:\n",
        "        return 1\n",
        "    else:\n",
        "        return (x * factorial(x-1))"
      ]
    },
    {
      "cell_type": "markdown",
      "metadata": {
        "id": "I4ioN7ny1xkn"
      },
      "source": [
        "#2\n",
        " double = lambda x: x * 2\n",
        " \n",
        "print(double(5))\n",
        " \n",
        "In Python, an anonymous function is a function that is defined without a name.\n",
        " \n",
        "While normal functions are defined using the def keyword in Python, anonymous functions are defined using the lambda keyword.\n",
        " \n",
        "Hence, anonymous functions are also called lambda functions."
      ]
    },
    {
      "cell_type": "markdown",
      "metadata": {
        "id": "r-WADxem18aW"
      },
      "source": [
        "#3\n",
        " double = lambda x: x * 2\n",
        " \n",
        "print(double(5)\n",
        " \n",
        "In Python, an anonymous function is a function that is defined without a name.\n",
        " \n",
        "While normal functions are defined using the def keyword in Python, anonymous functions are defined using the lambda keyword.\n",
        " \n",
        "Hence, anonymous functions are also called lambda functions."
      ]
    },
    {
      "cell_type": "code",
      "metadata": {
        "id": "nv9ALA7Y1_ND"
      },
      "source": [
        "#3\n",
        "randomList = ['a', 0, 2]\n",
        " \n",
        "for entry in randomList:\n",
        "    try:\n",
        "        print(\"The entry is\", entry)\n",
        "        r = 1/int(entry)\n",
        "        break\n",
        "    except:\n",
        "        print(\"Oops!\", sys.exc_info()[0], \"occurred.\")\n",
        "        print(\"Next entry.\")\n",
        "        print()\n",
        "print(\"The reciprocal of\", entry, \"is\", r)"
      ],
      "execution_count": null,
      "outputs": []
    },
    {
      "cell_type": "code",
      "metadata": {
        "id": "KGU3_SkS2Kqk"
      },
      "source": [
        "#5\n",
        "def recur_sum(n):\n",
        "   if n <= 1:\n",
        "       return n\n",
        "   else:\n",
        "       return n + recur_sum(n-1)\n",
        "num = 16\n",
        " \n",
        "if num < 0:\n",
        "   print(\"Enter a positive number\")\n",
        "else:\n",
        "   print(\"The sum is\",recur_sum(num))"
      ],
      "execution_count": null,
      "outputs": []
    },
    {
      "cell_type": "code",
      "metadata": {
        "id": "DRMG7jE72Iqj"
      },
      "source": [
        "#6\n",
        "fname = input(\"Enter file name: \")\n",
        " \n",
        "num_words = 0\n",
        " \n",
        "with open(fname, 'r') as f:\n",
        "    for line in f:\n",
        "        words = line.split()\n",
        "        num_words += len(words)\n",
        "print(\"Number of words:\")\n",
        "print(num_words)"
      ],
      "execution_count": null,
      "outputs": []
    },
    {
      "cell_type": "markdown",
      "metadata": {
        "id": "ZwCthpyo2iWl"
      },
      "source": [
        "Second paper"
      ]
    },
    {
      "cell_type": "markdown",
      "metadata": {
        "id": "pGQ9WpF82oH8"
      },
      "source": [
        "#1\n",
        "The pass statement is used as a placeholder for future code.\n",
        " \n",
        "When the pass statement is executed, nothing happens, but you avoid getting an error when empty code is not allowed."
      ]
    },
    {
      "cell_type": "code",
      "metadata": {
        "id": "O1u2KTbB3AsX"
      },
      "source": [
        "#2\n",
        "from math import pi\n",
        "r = float(input (\"Input the radius of the circle : \"))\n",
        "print (\"The area of the circle with radius \" + str(r) + \" is: \" + str(pi * r**2))"
      ],
      "execution_count": null,
      "outputs": []
    },
    {
      "cell_type": "code",
      "metadata": {
        "id": "zPx8fclU20uG"
      },
      "source": [
        "#3\n",
        "string = \"Python is awesome, isn't it?\"\n",
        "substring = \"is\"\n",
        "count = string.count(substring)\n",
        "print(\"The count is:\", count"
      ],
      "execution_count": null,
      "outputs": []
    },
    {
      "cell_type": "code",
      "metadata": {
        "id": "zypXarbJ2uk9"
      },
      "source": [
        "#5\n",
        "num = int(input(\"Enter a number: \"))\n",
        "if num > 1:\n",
        "   for i in range(2,num):\n",
        "       if (num % i) == 0:\n",
        "           print(num,\"is not a prime number\")\n",
        "           print(i,\"times\",num//i,\"is\",num)\n",
        "           break\n",
        "   else:\n",
        "       print(num,\"is a prime number\")\n",
        "else:\n",
        "   print(num,\"is not a prime number\")"
      ],
      "execution_count": null,
      "outputs": []
    },
    {
      "cell_type": "code",
      "metadata": {
        "id": "voX6A2Ga223v"
      },
      "source": [
        "#7\n",
        "string = input(\"Please enter the  String : \")\n",
        " \n",
        "if(string == string[:: - 1]):\n",
        "   print(\"This is a Palindrome String\")\n",
        "else:\n",
        "   print(\"This is Not a Palindrome String\")"
      ],
      "execution_count": null,
      "outputs": []
    }
  ]
}