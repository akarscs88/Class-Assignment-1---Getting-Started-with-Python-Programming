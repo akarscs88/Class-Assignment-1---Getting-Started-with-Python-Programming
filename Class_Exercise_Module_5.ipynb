{
  "nbformat": 4,
  "nbformat_minor": 0,
  "metadata": {
    "colab": {
      "name": "Class Exercise Module 5.ipynb",
      "provenance": [],
      "authorship_tag": "ABX9TyOI+omvbjKWV7Z/nVA2AmBv",
      "include_colab_link": true
    },
    "kernelspec": {
      "name": "python3",
      "display_name": "Python 3"
    }
  },
  "cells": [
    {
      "cell_type": "markdown",
      "metadata": {
        "id": "view-in-github",
        "colab_type": "text"
      },
      "source": [
        "<a href=\"https://colab.research.google.com/github/akarscs88/Class-Assignment-1---Getting-Started-with-Python-Programming/blob/master/Class_Exercise_Module_5.ipynb\" target=\"_parent\"><img src=\"https://colab.research.google.com/assets/colab-badge.svg\" alt=\"Open In Colab\"/></a>"
      ]
    },
    {
      "cell_type": "code",
      "metadata": {
        "id": "XH1xqAH7PjcO"
      },
      "source": [
        "#1\r\n",
        "cities['cond1'] = cities['City name'].str.contains('San') & cities['Area square miles'] > 50\r\n",
        "cities['cond2'] = cities['Area square miles'] > 50 & cities['City name'].str.contains('San')"
      ],
      "execution_count": null,
      "outputs": []
    },
    {
      "cell_type": "code",
      "metadata": {
        "id": "-GYJHXEyVviS"
      },
      "source": [
        "#2\r\n",
        "cities.reindex([0, 4, 5, 2])"
      ],
      "execution_count": null,
      "outputs": []
    }
  ]
}